{
 "cells": [
  {
   "cell_type": "markdown",
   "metadata": {},
   "source": [
    "## Einsendeaufgabe 5 - Aufgabe 3\n",
    "\"Create a 2x4 two dimensional matrix with random floats in it and in the next step determine the biggest element.\""
   ]
  },
  {
   "cell_type": "code",
   "execution_count": 165,
   "metadata": {},
   "outputs": [
    {
     "data": {
      "text/plain": [
       "2×4 Array{Float64,2}:\n",
       " 0.391458  0.198506  0.701368  0.957722\n",
       " 0.569523  0.931727  0.53084   0.729258"
      ]
     },
     "metadata": {},
     "output_type": "display_data"
    },
    {
     "name": "stdout",
     "output_type": "stream",
     "text": [
      "The biggest element of the matrix is:\n",
      "(0.9577217706744656, CartesianIndex(1, 4))\n"
     ]
    }
   ],
   "source": [
    "matrix = rand(2,4)\n",
    "display(\"text/plain\", matrix)\n",
    "println(\"The biggest element of the matrix is:\")\n",
    "println(findmax(matrix))"
   ]
  },
  {
   "cell_type": "markdown",
   "metadata": {},
   "source": [
    "## Einsendeaufgabe 5 - Aufgabe 4\n",
    "### a) Create two matrices of the same layout and test if addition and subtraction of the matrix works as expected: C = A + B\n"
   ]
  },
  {
   "cell_type": "code",
   "execution_count": 166,
   "metadata": {},
   "outputs": [],
   "source": [
    "matrixA = rand(-10:10, 2,3)\n",
    "matrixB = rand(-10:10, 2,3)\n",
    "return"
   ]
  },
  {
   "cell_type": "markdown",
   "metadata": {},
   "source": [
    "#### Matrix A:"
   ]
  },
  {
   "cell_type": "code",
   "execution_count": 167,
   "metadata": {},
   "outputs": [
    {
     "data": {
      "text/plain": [
       "2×3 Array{Int64,2}:\n",
       " -5  2   3\n",
       " -4  3  -1"
      ]
     },
     "metadata": {},
     "output_type": "display_data"
    }
   ],
   "source": [
    "display(\"text/plain\", matrixA)"
   ]
  },
  {
   "cell_type": "markdown",
   "metadata": {},
   "source": [
    "#### Matrix B:"
   ]
  },
  {
   "cell_type": "code",
   "execution_count": 168,
   "metadata": {},
   "outputs": [
    {
     "data": {
      "text/plain": [
       "2×3 Array{Int64,2}:\n",
       "  2  -8  -10\n",
       " -4   1    4"
      ]
     },
     "metadata": {},
     "output_type": "display_data"
    }
   ],
   "source": [
    "display(\"text/plain\", matrixB)"
   ]
  },
  {
   "cell_type": "markdown",
   "metadata": {},
   "source": [
    "#### Addition:"
   ]
  },
  {
   "cell_type": "code",
   "execution_count": 169,
   "metadata": {},
   "outputs": [
    {
     "data": {
      "text/plain": [
       "2×3 Array{Int64,2}:\n",
       " -3  -6  -7\n",
       " -8   4   3"
      ]
     },
     "metadata": {},
     "output_type": "display_data"
    }
   ],
   "source": [
    "addition = matrixA + matrixB\n",
    "display(\"text/plain\", addition)"
   ]
  },
  {
   "cell_type": "markdown",
   "metadata": {},
   "source": [
    "Bei der Addition wird jedes Element der ersten Matrix mit dem Element der zweiten Matrix am selben Index addiert.\n",
    "Die Addition erfolgt wie erwartet.\n",
    "\n",
    "#### Subtraktion:"
   ]
  },
  {
   "cell_type": "code",
   "execution_count": 170,
   "metadata": {},
   "outputs": [
    {
     "data": {
      "text/plain": [
       "2×3 Array{Int64,2}:\n",
       " -7  10  13\n",
       "  0   2  -5"
      ]
     },
     "metadata": {},
     "output_type": "display_data"
    }
   ],
   "source": [
    "subtraction = matrixA - matrixB\n",
    "display(\"text/plain\", subtraction)"
   ]
  },
  {
   "cell_type": "markdown",
   "metadata": {},
   "source": [
    "Bei der Subtraktion wird jedes Element der ersten Matrix mit dem Element der zweiten Matrix am selben Index subtrahiert.\n",
    "Die Subtraktion erfolgt wie erwartet."
   ]
  },
  {
   "cell_type": "markdown",
   "metadata": {},
   "source": [
    "### b) Now compare matrix multiplication either this way A * B and this way A .* B. Whats the difference?!\n",
    "#### Matrix C"
   ]
  },
  {
   "cell_type": "code",
   "execution_count": 171,
   "metadata": {},
   "outputs": [
    {
     "data": {
      "text/plain": [
       "3×2 Array{Int64,2}:\n",
       " -3    7\n",
       "  6   -2\n",
       "  9  -10"
      ]
     },
     "execution_count": 171,
     "metadata": {},
     "output_type": "execute_result"
    }
   ],
   "source": [
    "matrixC = rand(-10:10, 3,2)"
   ]
  },
  {
   "cell_type": "markdown",
   "metadata": {},
   "source": [
    "#### Multiplikation A * C"
   ]
  },
  {
   "cell_type": "code",
   "execution_count": 172,
   "metadata": {},
   "outputs": [
    {
     "data": {
      "text/plain": [
       "2×2 Array{Int64,2}:\n",
       " 54  -69\n",
       " 21  -24"
      ]
     },
     "metadata": {},
     "output_type": "display_data"
    }
   ],
   "source": [
    "AxC = matrixA * matrixC\n",
    "display(\"text/plain\", AxC)"
   ]
  },
  {
   "cell_type": "markdown",
   "metadata": {},
   "source": [
    "Wie erwartet ist bei der Multiplikation eine 2x2 Matrix entstanden. Die Zeilen der ersten Matrix werden mit den Spalten der zweiten Matrix multipliziert. Darum entsteht bei der umgekehrten Multiplikation C x A eine 3x3 Matrix:"
   ]
  },
  {
   "cell_type": "code",
   "execution_count": 173,
   "metadata": {},
   "outputs": [
    {
     "data": {
      "text/plain": [
       "3×3 Array{Int64,2}:\n",
       " -13   15  -16\n",
       " -22    6   20\n",
       "  -5  -12   37"
      ]
     },
     "metadata": {},
     "output_type": "display_data"
    }
   ],
   "source": [
    "CxA = matrixC * matrixA\n",
    "display(\"text/plain\", CxA)"
   ]
  },
  {
   "cell_type": "markdown",
   "metadata": {},
   "source": [
    "### c) What about matrix division with „/“ or „\\“?!\n",
    "Die Division zweier Matrizen ist die Multiplikation der ersten Matrize mit der Inversen der zweiten Matrix. Aus diesem Grund brauch Divisor und Divident die gleiche Matrixgröße."
   ]
  },
  {
   "cell_type": "markdown",
   "metadata": {},
   "source": [
    "#### Matrix D:"
   ]
  },
  {
   "cell_type": "code",
   "execution_count": 174,
   "metadata": {},
   "outputs": [
    {
     "data": {
      "text/plain": [
       "3×3 Array{Int64,2}:\n",
       "  1  -8    1\n",
       " -3  -7  -10\n",
       "  1  -6   -2"
      ]
     },
     "metadata": {},
     "output_type": "display_data"
    }
   ],
   "source": [
    "matrixD = rand(-10:10, 3,3)\n",
    "display(\"text/plain\", matrixD)"
   ]
  },
  {
   "cell_type": "markdown",
   "metadata": {},
   "source": [
    "#### Matrix E:"
   ]
  },
  {
   "cell_type": "code",
   "execution_count": 175,
   "metadata": {},
   "outputs": [
    {
     "data": {
      "text/plain": [
       "3×3 Array{Int64,2}:\n",
       " -8    2  -1\n",
       " -8   -8  -8\n",
       " -7  -10  -2"
      ]
     },
     "metadata": {},
     "output_type": "display_data"
    }
   ],
   "source": [
    "matrixE = rand(-10:10, 3,3)\n",
    "display(\"text/plain\", matrixE)"
   ]
  },
  {
   "cell_type": "markdown",
   "metadata": {},
   "source": [
    "#### Matrix D durch Matrix E"
   ]
  },
  {
   "cell_type": "code",
   "execution_count": 176,
   "metadata": {},
   "outputs": [
    {
     "data": {
      "text/plain": [
       "3×3 Array{Float64,2}:\n",
       " -0.633803  -0.267606   0.887324\n",
       " -0.577465   1.47007   -0.591549\n",
       " -0.619718   0.260563   0.267606"
      ]
     },
     "metadata": {},
     "output_type": "display_data"
    }
   ],
   "source": [
    "D_E = matrixD / matrixE\n",
    "display(\"text/plain\", D_E)"
   ]
  },
  {
   "cell_type": "markdown",
   "metadata": {},
   "source": [
    "#### Matrix D mal Inverse der Matrix E"
   ]
  },
  {
   "cell_type": "code",
   "execution_count": 177,
   "metadata": {},
   "outputs": [
    {
     "data": {
      "text/plain": [
       "3×3 Array{Float64,2}:\n",
       " -0.633803  -0.267606   0.887324\n",
       " -0.577465   1.47007   -0.591549\n",
       " -0.619718   0.260563   0.267606"
      ]
     },
     "metadata": {},
     "output_type": "display_data"
    }
   ],
   "source": [
    "DxiE = matrixD * inv(matrixE)\n",
    "display(\"text/plain\", DxiE)"
   ]
  },
  {
   "cell_type": "markdown",
   "metadata": {},
   "source": [
    "Beide Matrizen sind identisch. Das beweist meine oben getroffene Aussage.\n",
    "\n",
    "### d) Create a 3x3 integer matrix A with useful numbers. Now try A+1, A-1, A*2, A/2.\n",
    "\n",
    "Hierfür ist eine elementweise Addition/Subtraktion/Multiplikation/Division notwenig.\n",
    "#### Matrix"
   ]
  },
  {
   "cell_type": "code",
   "execution_count": 178,
   "metadata": {},
   "outputs": [
    {
     "data": {
      "text/plain": [
       "3×3 Array{Int64,2}:\n",
       " -4  -8  10\n",
       "  6  -2   1\n",
       " -4  -3   0"
      ]
     },
     "metadata": {},
     "output_type": "display_data"
    }
   ],
   "source": [
    "matrix = rand(-10:10, 3,3)\n",
    "display(matrix)"
   ]
  },
  {
   "cell_type": "markdown",
   "metadata": {},
   "source": [
    "#### Matrix + 1"
   ]
  },
  {
   "cell_type": "code",
   "execution_count": 179,
   "metadata": {},
   "outputs": [
    {
     "data": {
      "text/plain": [
       "3×3 Array{Int64,2}:\n",
       " -3  -7  11\n",
       "  7  -1   2\n",
       " -3  -2   1"
      ]
     },
     "metadata": {},
     "output_type": "display_data"
    }
   ],
   "source": [
    "matrix_add_one = matrix .+ 1\n",
    "display(matrix_add_one)"
   ]
  },
  {
   "cell_type": "markdown",
   "metadata": {},
   "source": [
    "#### Matrix - 1"
   ]
  },
  {
   "cell_type": "code",
   "execution_count": 180,
   "metadata": {},
   "outputs": [
    {
     "data": {
      "text/plain": [
       "3×3 Array{Int64,2}:\n",
       " -5  -9   9\n",
       "  5  -3   0\n",
       " -5  -4  -1"
      ]
     },
     "metadata": {},
     "output_type": "display_data"
    }
   ],
   "source": [
    "matrix_minus_one = matrix .- 1\n",
    "display(matrix_minus_one)"
   ]
  },
  {
   "cell_type": "markdown",
   "metadata": {},
   "source": [
    "#### Matrix * 2"
   ]
  },
  {
   "cell_type": "code",
   "execution_count": 181,
   "metadata": {},
   "outputs": [
    {
     "data": {
      "text/plain": [
       "3×3 Array{Int64,2}:\n",
       " -8  -16  20\n",
       " 12   -4   2\n",
       " -8   -6   0"
      ]
     },
     "metadata": {},
     "output_type": "display_data"
    }
   ],
   "source": [
    "matrixx2 = matrix .* 2\n",
    "display(matrixx2)"
   ]
  },
  {
   "cell_type": "markdown",
   "metadata": {},
   "source": [
    "#### Matrix / 2"
   ]
  },
  {
   "cell_type": "code",
   "execution_count": 182,
   "metadata": {},
   "outputs": [
    {
     "data": {
      "text/plain": [
       "3×3 Array{Float64,2}:\n",
       " -2.0  -4.0  5.0\n",
       "  3.0  -1.0  0.5\n",
       " -2.0  -1.5  0.0"
      ]
     },
     "metadata": {},
     "output_type": "display_data"
    }
   ],
   "source": [
    "matrix_2 = matrix ./ 2\n",
    "display(matrix_2)"
   ]
  },
  {
   "cell_type": "markdown",
   "metadata": {},
   "source": [
    "### e) Now multiply a 3x4 matrix with a suitable (4)vector.\n",
    "#### Matrix"
   ]
  },
  {
   "cell_type": "code",
   "execution_count": 183,
   "metadata": {},
   "outputs": [
    {
     "data": {
      "text/plain": [
       "3×4 Array{Int64,2}:\n",
       " -1   9  -6   0\n",
       " 10   5   7  -6\n",
       " -1  10  -9  -6"
      ]
     },
     "metadata": {},
     "output_type": "display_data"
    }
   ],
   "source": [
    "matrix = rand(-10:10, 3,4)\n",
    "display(matrix)"
   ]
  },
  {
   "cell_type": "markdown",
   "metadata": {},
   "source": [
    "#### Vector"
   ]
  },
  {
   "cell_type": "code",
   "execution_count": 184,
   "metadata": {},
   "outputs": [
    {
     "data": {
      "text/plain": [
       "4×1 Array{Int64,2}:\n",
       " -1\n",
       " 10\n",
       " 10\n",
       " -8"
      ]
     },
     "metadata": {},
     "output_type": "display_data"
    }
   ],
   "source": [
    "vector = rand(-10:10, 4,1)\n",
    "display(vector)"
   ]
  },
  {
   "cell_type": "markdown",
   "metadata": {},
   "source": [
    "#### Multiplication"
   ]
  },
  {
   "cell_type": "code",
   "execution_count": 185,
   "metadata": {},
   "outputs": [
    {
     "data": {
      "text/plain": [
       "3×1 Array{Int64,2}:\n",
       "  31\n",
       " 158\n",
       "  59"
      ]
     },
     "metadata": {},
     "output_type": "display_data"
    }
   ],
   "source": [
    "multi = matrix * vector\n",
    "display(multi)"
   ]
  },
  {
   "cell_type": "code",
   "execution_count": null,
   "metadata": {},
   "outputs": [],
   "source": []
  }
 ],
 "metadata": {
  "kernelspec": {
   "display_name": "Julia 1.4.2",
   "language": "julia",
   "name": "julia-1.4"
  },
  "language_info": {
   "file_extension": ".jl",
   "mimetype": "application/julia",
   "name": "julia",
   "version": "1.4.2"
  }
 },
 "nbformat": 4,
 "nbformat_minor": 4
}
